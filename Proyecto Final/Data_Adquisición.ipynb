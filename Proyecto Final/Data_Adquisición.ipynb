{
  "nbformat": 4,
  "nbformat_minor": 0,
  "metadata": {
    "colab": {
      "provenance": []
    },
    "kernelspec": {
      "name": "python3",
      "display_name": "Python 3"
    },
    "language_info": {
      "name": "python"
    }
  },
  "cells": [
    {
      "cell_type": "markdown",
      "source": [
        "***\n",
        "# **Data Adquisición**\n",
        "***"
      ],
      "metadata": {
        "id": "syvS6NrAgDIb"
      }
    },
    {
      "cell_type": "markdown",
      "metadata": {
        "id": "b32oOeRUrCXA"
      },
      "source": [
        "Para comenzar, recolectamos un gran conjunto de datos de partidos de temporada regular y de playoffs de la NBA, en los años 2003 al 2021, luego los vamos a limpiar y prepar para su análisis."
      ]
    },
    {
      "cell_type": "markdown",
      "source": [
        "## Cargamos los Data sets"
      ],
      "metadata": {
        "id": "L82R_ZQpxr8H"
      }
    },
    {
      "cell_type": "code",
      "execution_count": null,
      "metadata": {
        "id": "c8Kvbhja0h2O"
      },
      "outputs": [],
      "source": [
        "# Contiene todas las estadisticas individuales de todos los partidos de la NBA (2003-2021)\n",
        "df_games = pd.read_csv('games_details.csv')\n",
        "\n",
        "# Contiene las mismas estadisticas pero no a nivel de jugador sino por equipo (Grupal)\n",
        "data_NBA = pd.read_excel('games.xlsx')\n",
        "\n",
        "# Contiene toda la informacion de los equipos NBA\n",
        "teams = pd.read_csv('teams.csv')\n",
        "\n",
        "# Contiene la conferencia correspondinte a cada partido en temporada regular\n",
        "conference = pd.read_csv('ranking.csv')[['TEAM_ID', 'CONFERENCE']]\n",
        "\n",
        "# Tabla creada en excel que contiene las fechas de inicio y final tanto en temporada regular como en playoffs de los años seleccionados\n",
        "season_date = pd.read_excel('season_date.xlsx')\n",
        "\n",
        "# Tabla creada en excel que contiene los premios invidivuales (MVP temporada, DPOY, MVP finals) de la NBA en los años seleccionados (2003-2021)\n",
        "premios = pd.read_excel('premios.xlsx');"
      ]
    },
    {
      "cell_type": "markdown",
      "source": [
        "## Descripción de las columnas"
      ],
      "metadata": {
        "id": "wZATmE5HaANU"
      }
    },
    {
      "cell_type": "markdown",
      "source": [
        "* **GAME_ID:** Numero del partido\n",
        "* **TEAM_ID:** Numero del equipo\n",
        "* **TEAM_ABBREVIATION:** Abreviación del nombre del equipo\n",
        "* **TEAM_CITY:** Ciudad del equipo\n",
        "* **PLAYERS_ID:** Numero del jugador\n",
        "* **PLAYER_NAME:** Nombre del jugador\n",
        "* **NICKNAME:** Primer nombre del jugador\n",
        "* **START_POSITION:** Posicion en la cancha del jugador\n",
        "* **COMMET:** Comentario del partido\n",
        "* **MIN:** Minutos\n",
        "* **FGM:** Tiros de dos encestados\n",
        "* **FGA:** Tiros de dos intentados\n",
        "* **FG_PCT:** Porcentaje de tiro de dos\n",
        "* **FG3M:** Tiros de tres encestados\n",
        "* **FG3A:** Tiros de tres intentados\n",
        "* **FG3_PCT:** Porcentaje de tiro de tres\n",
        "* **FTM:** Tiros libres encestados\n",
        "* **FTA:** Tiros libres intentados\n",
        "* **FT_PCT:** Porcentaje de tiros libres\n",
        "* **OREB:** Rebotes ofensivos\n",
        "* **DREB:** Rebotes defensivos\n",
        "* **REB:** Rebotes totales\n",
        "* **AST:** Asistencias\n",
        "* **STL:** Robos\n",
        "* **BLK:** Bloqueos\n",
        "* **TO:** Perdidas\n",
        "* **PF:** Faltas\n",
        "* **PTS:** Puntos\n",
        "* **PLUS_MINUS:** +/- dentro de cancha"
      ],
      "metadata": {
        "id": "YUHkYq15aYsw"
      }
    }
  ]
}