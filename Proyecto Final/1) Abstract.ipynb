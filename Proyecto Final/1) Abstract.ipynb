{
  "nbformat": 4,
  "nbformat_minor": 0,
  "metadata": {
    "colab": {
      "provenance": []
    },
    "kernelspec": {
      "name": "python3",
      "display_name": "Python 3"
    },
    "language_info": {
      "name": "python"
    }
  },
  "cells": [
    {
      "cell_type": "markdown",
      "metadata": {
        "id": "bmBaXWET8ZPq"
      },
      "source": [
        "***\n",
        "# **Abstract**\n",
        "***"
      ]
    },
    {
      "cell_type": "markdown",
      "metadata": {
        "id": "eCGLJ3HomOOC"
      },
      "source": [
        "* **Introducción:** La NBA es la liga de basquet más popular del mundo y cada temporada los fanáticos de todos lados se emocionan con la posibilidad de ver a sus equipos favoritos en temporada regular y luego en los playoffs, donde la competencia se intensificaba y cada partido es muy importante. Exploraremos cómo las estadísticas de los partidos pueden afectar o influir en el resultado del mismo y también las características de los jugadores y equipos de la competición.\n",
        "Personalmente me gusta mucho el basquet y el deporte en general, jugué al mismo durante muchos años. Elegí este tema porque me atrae y me intriga analizar todas las estadísticas que hay en profundidad, y ver con estas nuevas herramientas que conclusiones puedo sacar de ellas.\n"
      ]
    },
    {
      "cell_type": "markdown",
      "source": [
        "* **Objetivo**: Con este trabajo el objetivo es lograr un análisis completo de todas las variables de un partido, y ver como afectan al resultado del mismo. Analizar también las estadísticas individuales de los jugadores y de los equipos, conocer mejor las cualidades más relevantes del juego. Lograr un algoritmo que prediga con precisión el resultado de un partido y otro que agrupe a los jugadores de acuerdo a sus cualidades."
      ],
      "metadata": {
        "id": "qem7QAbbwdTU"
      }
    },
    {
      "cell_type": "markdown",
      "metadata": {
        "id": "bHWAwHThDUON"
      },
      "source": [
        "* **Contexto comercial:** Se trata del mundo del basquet profesional, más específicamente la liga NBA en Estados Unidos, donde es la mas importante a nivel internacional.\n",
        "* **Problema comercial:** Información destinada a los equipos de la NBA, para la toma de decisiones en las estrategias de juego. Por lo cual es necesario conocer mejor las estadísticas de juego y cuales son importantes a la hora de decidir el resultado de un partido, así como también conocer las características de cada jugador.\n",
        "* **Contexto analítico:** Combinamos varios archivos csv y también de excel para formar datasets mas completos, con la finalidad de realizar un análisis profundo de todas las estadísticas de un partido, tanto a nivel individual (jugadores) como a nivel grupal (equipos). Luego intentaremos resolver un problema de clasificación y otro de agrupación, aplicando modelos como regresión logística y árbol de decisión para el primer algoritmo, así como también el método de K-Means y Hirarchical para el segundo algoritmo."
      ]
    }
  ]
}