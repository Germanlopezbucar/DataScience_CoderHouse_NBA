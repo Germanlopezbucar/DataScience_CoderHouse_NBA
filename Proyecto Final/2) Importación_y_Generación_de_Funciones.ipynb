{
  "nbformat": 4,
  "nbformat_minor": 0,
  "metadata": {
    "colab": {
      "provenance": []
    },
    "kernelspec": {
      "name": "python3",
      "display_name": "Python 3"
    },
    "language_info": {
      "name": "python"
    }
  },
  "cells": [
    {
      "cell_type": "markdown",
      "metadata": {
        "id": "0g-BwGA50Dan"
      },
      "source": [
        "***\n",
        "# **Importación y Generación de Funciones**\n",
        "***"
      ]
    },
    {
      "cell_type": "markdown",
      "source": [
        "## Librerias\n"
      ],
      "metadata": {
        "id": "6uB3MC6PpEs2"
      }
    },
    {
      "cell_type": "code",
      "execution_count": null,
      "metadata": {
        "id": "5tz6rXhV0YxU"
      },
      "outputs": [],
      "source": [
        "# Manipulacion de datos\n",
        "import pandas as pd\n",
        "import numpy as np\n",
        "import datetime\n",
        "\n",
        "# Graficos\n",
        "import matplotlib as mpl\n",
        "import matplotlib.pyplot as plt\n",
        "from matplotlib.patches import Rectangle\n",
        "from matplotlib.colors import LinearSegmentedColormap\n",
        "import seaborn as sns\n",
        "import plotly.express as px\n",
        "\n",
        "# Seleccion de variables, modelo y metricas\n",
        "import sys\n",
        "import joblib\n",
        "sys.modules['sklearn.externals.joblib'] = joblib\n",
        "from mlxtend.feature_selection import SequentialFeatureSelector as SFS\n",
        "from sklearn.model_selection import train_test_split\n",
        "from sklearn.ensemble import RandomForestRegressor\n",
        "# Metricas (Algoritmo de clasificación)\n",
        "from sklearn.metrics import mean_absolute_error, mean_absolute_percentage_error, r2_score\n",
        "from sklearn.metrics import confusion_matrix, classification_report, accuracy_score, f1_score, roc_auc_score\n",
        "# Modelos/PCA\n",
        "from sklearn.linear_model import LinearRegression\n",
        "from sklearn.linear_model import LogisticRegression\n",
        "from sklearn import tree\n",
        "from sklearn.preprocessing import StandardScaler, RobustScaler\n",
        "from sklearn.decomposition import PCA\n",
        "from scipy import stats\n",
        "# K-Means\n",
        "from sklearn.cluster import KMeans\n",
        "from yellowbrick.cluster import KElbowVisualizer\n",
        "from yellowbrick.cluster import SilhouetteVisualizer\n",
        "# Hirarchical Clustering\n",
        "from scipy.cluster.hierarchy import linkage, dendrogram\n",
        "from scipy.spatial.distance import pdist\n",
        "from sklearn.cluster import AgglomerativeClustering as agc\n",
        "# Metricas (Algoritmo de agrupación)\n",
        "from sklearn.metrics import davies_bouldin_score\n",
        "from sklearn.metrics import silhouette_score as sil_score\n",
        "\n",
        "# Hiperparametros\n",
        "from sklearn.model_selection import RandomizedSearchCV\n",
        "from scipy.stats import randint\n",
        "from sklearn.model_selection import GridSearchCV"
      ]
    },
    {
      "cell_type": "code",
      "source": [
        "!pip install mlxtend"
      ],
      "metadata": {
        "colab": {
          "base_uri": "https://localhost:8080/"
        },
        "id": "vtJeOmvWyGaJ",
        "outputId": "ed5ac899-0ca4-4313-9596-6abf783018c7"
      },
      "execution_count": null,
      "outputs": [
        {
          "output_type": "stream",
          "name": "stdout",
          "text": [
            "Looking in indexes: https://pypi.org/simple, https://us-python.pkg.dev/colab-wheels/public/simple/\n",
            "Requirement already satisfied: mlxtend in /usr/local/lib/python3.9/dist-packages (0.14.0)\n",
            "Requirement already satisfied: scipy>=0.17 in /usr/local/lib/python3.9/dist-packages (from mlxtend) (1.10.1)\n",
            "Requirement already satisfied: setuptools in /usr/local/lib/python3.9/dist-packages (from mlxtend) (67.7.2)\n",
            "Requirement already satisfied: matplotlib>=1.5.1 in /usr/local/lib/python3.9/dist-packages (from mlxtend) (3.7.1)\n",
            "Requirement already satisfied: pandas>=0.17.1 in /usr/local/lib/python3.9/dist-packages (from mlxtend) (1.5.3)\n",
            "Requirement already satisfied: numpy>=1.10.4 in /usr/local/lib/python3.9/dist-packages (from mlxtend) (1.22.4)\n",
            "Requirement already satisfied: scikit-learn>=0.18 in /usr/local/lib/python3.9/dist-packages (from mlxtend) (1.2.2)\n",
            "Requirement already satisfied: contourpy>=1.0.1 in /usr/local/lib/python3.9/dist-packages (from matplotlib>=1.5.1->mlxtend) (1.0.7)\n",
            "Requirement already satisfied: importlib-resources>=3.2.0 in /usr/local/lib/python3.9/dist-packages (from matplotlib>=1.5.1->mlxtend) (5.12.0)\n",
            "Requirement already satisfied: packaging>=20.0 in /usr/local/lib/python3.9/dist-packages (from matplotlib>=1.5.1->mlxtend) (23.1)\n",
            "Requirement already satisfied: pillow>=6.2.0 in /usr/local/lib/python3.9/dist-packages (from matplotlib>=1.5.1->mlxtend) (8.4.0)\n",
            "Requirement already satisfied: python-dateutil>=2.7 in /usr/local/lib/python3.9/dist-packages (from matplotlib>=1.5.1->mlxtend) (2.8.2)\n",
            "Requirement already satisfied: pyparsing>=2.3.1 in /usr/local/lib/python3.9/dist-packages (from matplotlib>=1.5.1->mlxtend) (3.0.9)\n",
            "Requirement already satisfied: fonttools>=4.22.0 in /usr/local/lib/python3.9/dist-packages (from matplotlib>=1.5.1->mlxtend) (4.39.3)\n",
            "Requirement already satisfied: kiwisolver>=1.0.1 in /usr/local/lib/python3.9/dist-packages (from matplotlib>=1.5.1->mlxtend) (1.4.4)\n",
            "Requirement already satisfied: cycler>=0.10 in /usr/local/lib/python3.9/dist-packages (from matplotlib>=1.5.1->mlxtend) (0.11.0)\n",
            "Requirement already satisfied: pytz>=2020.1 in /usr/local/lib/python3.9/dist-packages (from pandas>=0.17.1->mlxtend) (2022.7.1)\n",
            "Requirement already satisfied: threadpoolctl>=2.0.0 in /usr/local/lib/python3.9/dist-packages (from scikit-learn>=0.18->mlxtend) (3.1.0)\n",
            "Requirement already satisfied: joblib>=1.1.1 in /usr/local/lib/python3.9/dist-packages (from scikit-learn>=0.18->mlxtend) (1.2.0)\n",
            "Requirement already satisfied: zipp>=3.1.0 in /usr/local/lib/python3.9/dist-packages (from importlib-resources>=3.2.0->matplotlib>=1.5.1->mlxtend) (3.15.0)\n",
            "Requirement already satisfied: six>=1.5 in /usr/local/lib/python3.9/dist-packages (from python-dateutil>=2.7->matplotlib>=1.5.1->mlxtend) (1.16.0)\n"
          ]
        }
      ]
    },
    {
      "cell_type": "code",
      "source": [
        "# Para ignorar errores\n",
        "import warnings\n",
        "warnings.filterwarnings(\"ignore\")\n",
        "mpl.style.use('bmh')    # Diseño de los graficos"
      ],
      "metadata": {
        "id": "CHSVUTQ-xSKL"
      },
      "execution_count": null,
      "outputs": []
    },
    {
      "cell_type": "markdown",
      "source": [
        "## Funciones"
      ],
      "metadata": {
        "id": "C8i27AflpIEm"
      }
    },
    {
      "cell_type": "code",
      "source": [
        "# Funcion para crear una tabla con valores comparativos (Analisis Univariado)\n",
        "\n",
        "def univariado_info(data):\n",
        "  df_info = pd.DataFrame(columns = ['Cantidad', 'Tipo', 'Nulos', 'Unicos'])\n",
        "\n",
        "  for col in data:\n",
        "    data_series = data[col]\n",
        "    df_info.loc[col] = [data_series.count(), data_series.dtype, data_series.isnull().sum(), data_series.nunique()]\n",
        "\n",
        "  df_describe = data.describe (include = 'all', datetime_is_numeric=True).T[['top', 'mean', 'std', 'min', '25%', '50%', '75%', 'max']]\n",
        "  df_stats = pd.DataFrame([data.skew(), data.kurtosis()], index = ['sesgo', 'kurtosis']).T\n",
        "\n",
        "  return pd.concat([df_info, pd.concat([df_describe, df_stats], axis=1)], axis=1).fillna('-')"
      ],
      "metadata": {
        "id": "-ZahN0Jqo2NL"
      },
      "execution_count": null,
      "outputs": []
    },
    {
      "cell_type": "code",
      "source": [
        "# Funcion para crear dos graficos y asi visualizar algunas variables en forma univariada:\n",
        "\n",
        "def histogram_box_plot(data, nombre):\n",
        "    f, (ax1, ax2) = plt.subplots(1, 2, figsize=(20,8), gridspec_kw={'width_ratios': [4, 1]})\n",
        "\n",
        "    # Histograma\n",
        "    perc_25_colour = 'gold'\n",
        "    perc_50_colour = 'mediumaquamarine'\n",
        "    perc_75_colour = 'deepskyblue'\n",
        "    perc_95_colour = 'peachpuff'\n",
        "\n",
        "    counts, bins, patches = ax1.hist(data, facecolor=perc_50_colour, edgecolor='gray', bins='sturges')\n",
        "\n",
        "    ax1.set_xticks(bins.round(2))\n",
        "    ax1.tick_params(axis='x', rotation=70)\n",
        "    ax1.set_title('Histograma con separacion por percentiles', fontsize=14)\n",
        "    ax1.set_xlabel(nombre)\n",
        "\n",
        "    q25, q75, q95 = np.percentile(data, [25, 75, 95])\n",
        "\n",
        "    # Asignacion de colores segun barra\n",
        "    for patch, leftside, rightside in zip(patches, bins[:-1], bins[1:]):\n",
        "        if rightside <= q25:\n",
        "            patch.set_facecolor(perc_25_colour)\n",
        "        elif leftside > q95:\n",
        "            patch.set_facecolor(perc_95_colour)\n",
        "        elif leftside >= q75:\n",
        "            patch.set_facecolor(perc_75_colour)\n",
        "\n",
        "    bin_x_centers = 0.5 * np.diff(bins) + bins[:-1]\n",
        "\n",
        "    # Anotaciones de cada barra en porcentaje\n",
        "    for i in range(len(bins)-1):\n",
        "        bin_label = \"({0:,.2f}%)\".format((counts[i]/counts.sum())*100)\n",
        "        ax1.text(bin_x_centers[i]- 1, counts[i]*1.01, bin_label, rotation_mode='anchor')\n",
        "\n",
        "    # Leyenda para los percentiles\n",
        "    handles = [Rectangle((0,0),1,1,color=c,ec=\"k\") for c in [perc_25_colour, perc_50_colour, perc_75_colour, perc_95_colour]]\n",
        "    labels= [\"0-25 Percentile\",\"25-50 Percentile\", \"50-75 Percentile\", \">95 Percentile\"]\n",
        "    ax1.legend(handles, labels, bbox_to_anchor=(0.1, 0., 0.9, 0.99))\n",
        "\n",
        "    # Boxplot\n",
        "    ax2.boxplot(data,flierprops={'markerfacecolor': 'red', 'markersize': 6}, medianprops={'color': 'green', 'linewidth': 4})\n",
        "    ax2.set_xlabel(nombre)\n",
        "    ax2.set_title('Boxplot', fontsize=14)\n",
        "\n",
        "    f.tight_layout()\n",
        "    plt.show()"
      ],
      "metadata": {
        "id": "_zfhOFARqYdH"
      },
      "execution_count": null,
      "outputs": []
    },
    {
      "cell_type": "code",
      "source": [
        "# Funcion para un Analisis Bivariado\n",
        "\n",
        "def heatmap_plot(data):\n",
        "\n",
        "    plt.rcParams['figure.figsize'] = 32, 15\n",
        "    corr = data.corr()\n",
        "    mask = np.triu(np.ones_like(corr, dtype=np.bool))\n",
        "    cmap = sns.light_palette('Green', as_cmap=True)\n",
        "\n",
        "    sns.heatmap(corr, mask=mask, cmap=cmap, annot=True, linewidth=3)"
      ],
      "metadata": {
        "id": "_pcaZ1qLuu3F"
      },
      "execution_count": null,
      "outputs": []
    },
    {
      "cell_type": "code",
      "source": [
        "# Grafico Radar para comparar entre jugadores o entre equipos\n",
        "\n",
        "def plot_radar_compare(data, nombre1, nombre2, nombre3, nombre4, primera_columna):\n",
        "\n",
        "    radar = data[[primera_columna, 'PTS', 'AST', 'REB', 'CHAMPION_NUM', 'VICTORY_NUM', 'FG3A', 'STL', 'BLK']]\n",
        "    radar.rename(columns={\n",
        "    'PTS': 'Puntos',\n",
        "    'AST': 'Asistencias',\n",
        "    'REB': 'Rebotes',\n",
        "    'STL': 'Robos',\n",
        "    'BLK': 'Bloqueos',\n",
        "    'FG3A': 'Tiro de tres',\n",
        "    'VICTORY_NUM': 'Partidos Ganados',\n",
        "    'CHAMPION_NUM': 'Campeonatos'}, inplace=True)\n",
        "    factors = ['Puntos', 'Asistencias', 'Rebotes', 'Campeonatos', 'Partidos Ganados', 'Tiro de tres', 'Robos', 'Bloqueos']\n",
        "\n",
        "    # Definir la nueva escala de 0 a 100\n",
        "    new_max = 10\n",
        "    new_min = 0\n",
        "    new_range = new_max - new_min\n",
        "\n",
        "    # Transformación lineal para cada variable a [0, 10]\n",
        "    for factor in factors:\n",
        "        max_val = radar[factor].max()\n",
        "        min_val = radar[factor].min()\n",
        "        val_range = max_val - min_val\n",
        "        radar[factor] = radar[factor].apply(lambda x: (((x - min_val) * new_range) / val_range) + new_min)\n",
        "\n",
        "    radar.set_index(primera_columna, inplace=True)    # Poner la primera columna como índice\n",
        "\n",
        "    # Graficos\n",
        "    fig, axs = plt.subplots(1, 4, figsize=(26, 26), dpi=450, subplot_kw=dict(polar=True))\n",
        "    nombres = [nombre1, nombre2, nombre3, nombre4]\n",
        "\n",
        "    for i, nombre in enumerate(nombres):\n",
        "\n",
        "      values = radar.loc[nombre].tolist()                                    # Obtener los valores del nombre seleccionado\n",
        "      num_vars = len(factors)                                                # Número de variables para el gráfico.\n",
        "      angles = np.linspace(0, 2 * np.pi, num_vars, endpoint=False).tolist()  # Dividir el círculo en partes iguales y obtener los ángulos\n",
        "\n",
        "      values += values[:1]\n",
        "      angles += angles[:1]\n",
        "\n",
        "      axs[i].plot(angles, values, color='black', linewidth=1)   # Graficar los datos (ángulos)\n",
        "      axs[i].fill(angles, values, color='green', alpha=0.25)    # Llenar el área interior del polígono\n",
        "      axs[i].set_theta_offset(np.pi / 2)                        # Ajustar los parámetros de la figura\n",
        "      axs[i].set_theta_direction(-1)\n",
        "      axs[i].set_rlim(0, 10)                                    # Poner las etiquetas en el eje radial\n",
        "      axs[i].set_thetagrids(np.degrees(angles[:-1]), factors)   # Poner las etiquetas en el eje angular\n",
        "      axs[i].set_title(nombre)                                  # Establecer el título del gráfico\n",
        "\n",
        "    plt.show()"
      ],
      "metadata": {
        "id": "hSy2fteUW0eo"
      },
      "execution_count": null,
      "outputs": []
    }
  ]
}